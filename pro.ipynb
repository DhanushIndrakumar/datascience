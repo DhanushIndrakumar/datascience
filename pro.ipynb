{
 "cells": [
  {
   "cell_type": "markdown",
   "id": "1d16c522",
   "metadata": {},
   "source": [
    "# CLASSIFYING NEWSGROUP TOPICS WITH SUPPORT VECTOR MACHINES"
   ]
  },
  {
   "cell_type": "code",
   "execution_count": 14,
   "id": "64dc9999",
   "metadata": {},
   "outputs": [],
   "source": [
    "from sklearn.feature_extraction.text import TfidfVectorizer\n",
    "from sklearn.datasets import fetch_20newsgroups\n",
    "from nltk.corpus import names\n",
    "from nltk.stem import WordNetLemmatizer"
   ]
  },
  {
   "cell_type": "code",
   "execution_count": 2,
   "id": "d50322f4",
   "metadata": {},
   "outputs": [],
   "source": [
    "# NLTK- natural language toolkit\n",
    "\n",
    "all_names=set(names.words())\n",
    "#all_names\n",
    "\n",
    "lemmatizer= WordNetLemmatizer()\n",
    "\n",
    "# preprocessing\n",
    "#- lower case\n",
    "#- root form run, running- run (lemmatization)\n",
    "# stopwords- a, the, an for\n",
    "\n"
   ]
  },
  {
   "cell_type": "code",
   "execution_count": 10,
   "id": "3ea2ae82",
   "metadata": {},
   "outputs": [],
   "source": [
    "def is_letter_only(word):\n",
    "    return word.isalpha()\n",
    "\n",
    "from nltk.corpus import stopwords\n",
    "stop_words= stopwords.words('english')"
   ]
  },
  {
   "cell_type": "code",
   "execution_count": 3,
   "id": "a59a701c",
   "metadata": {},
   "outputs": [],
   "source": [
    "#we are defining a function for cleaning data\n",
    "def clean_text(docs):\n",
    "    docs_cleaned=[]\n",
    "    for doc in docs:\n",
    "        doc=doc.lower()\n",
    "        doc_cleaned=' '.join(lemmatizer.lemmatize(word) for word in doc.split()\n",
    "                            if is_letter_only(word) and word not in all_names and word not in stop_words)\n",
    "        docs_cleaned.append(doc_cleaned)\n",
    "    return docs_cleaned"
   ]
  },
  {
   "cell_type": "code",
   "execution_count": 4,
   "id": "64d3a696",
   "metadata": {},
   "outputs": [
    {
     "data": {
      "text/plain": [
       "<function sklearn.datasets._twenty_newsgroups.fetch_20newsgroups(*, data_home=None, subset='train', categories=None, shuffle=True, random_state=42, remove=(), download_if_missing=True, return_X_y=False)>"
      ]
     },
     "execution_count": 4,
     "metadata": {},
     "output_type": "execute_result"
    }
   ],
   "source": [
    "fetch_20newsgroups"
   ]
  },
  {
   "cell_type": "code",
   "execution_count": 5,
   "id": "cdcb038c",
   "metadata": {},
   "outputs": [
    {
     "data": {
      "text/plain": [
       "array([0, 1, 0, ..., 0, 0, 1], dtype=int64)"
      ]
     },
     "execution_count": 5,
     "metadata": {},
     "output_type": "execute_result"
    }
   ],
   "source": [
    "#EXPERIMENT-1:Binary Classifier\n",
    "#The model is able to classify between the below mentioned categories\n",
    "# Binary classification\n",
    "\n",
    "\n",
    "categories=['comp.graphics','sci.space']\n",
    "\n",
    "#classifying into train and test data\n",
    "data_train= fetch_20newsgroups(subset='train', categories= categories, random_state=42)\n",
    "data_test= fetch_20newsgroups(subset='test', categories=categories, random_state=42)\n",
    "\n",
    "\n"
   ]
  },
  {
   "cell_type": "code",
   "execution_count": 12,
   "id": "dcf3adc3",
   "metadata": {},
   "outputs": [
    {
     "data": {
      "text/plain": [
       "array([0, 1, 0, ..., 0, 0, 1], dtype=int64)"
      ]
     },
     "execution_count": 12,
     "metadata": {},
     "output_type": "execute_result"
    }
   ],
   "source": [
    "#Now we cleaning the train and test data by calling the clean_text function\n",
    "cleaned_train= clean_text(data_train.data)\n",
    "label_train= data_train.target\n",
    "label_train"
   ]
  },
  {
   "cell_type": "code",
   "execution_count": 6,
   "id": "9dab6f11",
   "metadata": {},
   "outputs": [
    {
     "data": {
      "text/plain": [
       "array([1, 0, 1, 1, 1, 0, 0, 0, 0, 0, 0, 1, 0, 1, 1, 1, 0, 0, 0, 1, 1, 1,\n",
       "       0, 1, 1, 1, 1, 1, 0, 1, 1, 1, 0, 0, 0, 1, 0, 1, 1, 1, 0, 0, 1, 0,\n",
       "       0, 0, 1, 0, 1, 0, 0, 0, 1, 1, 0, 1, 0, 0, 0, 0, 0, 0, 0, 0, 0, 1,\n",
       "       1, 1, 1, 0, 0, 1, 0, 0, 1, 1, 1, 1, 0, 0, 1, 1, 0, 0, 0, 0, 1, 1,\n",
       "       1, 1, 0, 0, 1, 0, 0, 0, 1, 1, 1, 0, 0, 0, 0, 1, 1, 1, 0, 1, 0, 0,\n",
       "       1, 0, 1, 1, 0, 0, 0, 1, 1, 1, 0, 1, 1, 1, 1, 1, 0, 1, 1, 1, 0, 1,\n",
       "       0, 1, 1, 1, 1, 0, 1, 0, 0, 1, 0, 1, 1, 0, 0, 0, 0, 0, 1, 0, 0, 1,\n",
       "       1, 0, 1, 1, 0, 0, 1, 1, 1, 1, 1, 0, 1, 1, 0, 1, 0, 0, 0, 1, 0, 1,\n",
       "       0, 0, 0, 1, 0, 1, 1, 0, 1, 1, 1, 1, 1, 1, 1, 0, 1, 0, 0, 1, 0, 0,\n",
       "       0, 0, 0, 0, 1, 1, 0, 0, 0, 1, 0, 1, 0, 0, 0, 0, 0, 1, 0, 1, 0, 1,\n",
       "       1, 0, 0, 1, 0, 0, 0, 1, 1, 1, 0, 0, 0, 1, 0, 1, 0, 0, 1, 0, 0, 1,\n",
       "       1, 0, 1, 0, 0, 1, 1, 0, 0, 1, 1, 0, 1, 0, 0, 1, 1, 0, 1, 0, 1, 1,\n",
       "       1, 0, 0, 1, 0, 0, 1, 0, 0, 0, 0, 1, 1, 1, 1, 1, 0, 1, 1, 1, 1, 1,\n",
       "       1, 1, 0, 0, 1, 1, 1, 1, 0, 1, 0, 1, 0, 0, 0, 1, 1, 0, 0, 0, 1, 1,\n",
       "       1, 0, 0, 1, 0, 1, 1, 0, 1, 0, 0, 0, 1, 1, 1, 1, 0, 1, 1, 0, 1, 1,\n",
       "       1, 0, 0, 1, 1, 0, 0, 0, 0, 1, 0, 1, 0, 0, 0, 1, 1, 1, 0, 1, 1, 0,\n",
       "       0, 1, 1, 1, 1, 1, 0, 1, 1, 0, 0, 1, 1, 1, 0, 0, 0, 0, 0, 0, 1, 1,\n",
       "       1, 1, 1, 1, 0, 0, 1, 1, 1, 0, 0, 0, 0, 1, 1, 1, 1, 1, 0, 0, 0, 1,\n",
       "       1, 0, 1, 1, 1, 0, 0, 1, 1, 0, 0, 1, 1, 1, 0, 1, 0, 1, 0, 0, 1, 1,\n",
       "       0, 0, 1, 0, 0, 1, 0, 0, 1, 0, 1, 1, 1, 1, 1, 1, 1, 1, 0, 1, 0, 0,\n",
       "       0, 1, 1, 1, 1, 0, 1, 1, 1, 0, 0, 0, 1, 1, 0, 0, 1, 0, 0, 1, 0, 1,\n",
       "       0, 1, 1, 0, 1, 1, 0, 1, 0, 0, 1, 1, 0, 0, 0, 1, 1, 0, 1, 0, 0, 1,\n",
       "       1, 0, 1, 0, 1, 1, 0, 1, 1, 1, 0, 0, 0, 0, 0, 0, 0, 1, 1, 0, 1, 0,\n",
       "       0, 0, 1, 1, 0, 0, 1, 0, 0, 1, 0, 1, 0, 0, 1, 1, 1, 1, 0, 1, 0, 1,\n",
       "       0, 0, 0, 1, 0, 1, 0, 0, 0, 0, 1, 1, 0, 1, 1, 1, 0, 0, 1, 1, 1, 0,\n",
       "       1, 1, 0, 1, 1, 0, 1, 1, 0, 1, 0, 1, 0, 0, 0, 0, 0, 1, 1, 0, 0, 0,\n",
       "       0, 1, 0, 0, 1, 1, 0, 1, 0, 0, 1, 0, 0, 1, 0, 1, 1, 1, 1, 0, 0, 0,\n",
       "       1, 0, 0, 1, 1, 1, 0, 1, 1, 1, 1, 1, 0, 0, 1, 0, 0, 0, 1, 1, 0, 1,\n",
       "       1, 1, 0, 0, 1, 0, 1, 1, 1, 0, 1, 1, 1, 1, 0, 1, 0, 1, 1, 0, 1, 0,\n",
       "       1, 1, 0, 0, 0, 1, 0, 1, 0, 1, 0, 0, 0, 0, 1, 0, 1, 0, 1, 0, 0, 0,\n",
       "       0, 1, 1, 0, 0, 1, 0, 0, 0, 0, 0, 0, 0, 0, 1, 1, 0, 1, 0, 1, 1, 1,\n",
       "       1, 1, 0, 0, 1, 0, 0, 1, 1, 1, 0, 1, 0, 0, 1, 1, 0, 0, 0, 1, 0, 0,\n",
       "       1, 1, 0, 0, 0, 1, 1, 1, 0, 0, 1, 0, 0, 1, 0, 1, 0, 0, 1, 0, 0, 1,\n",
       "       0, 1, 0, 1, 0, 0, 0, 0, 1, 0, 0, 1, 1, 0, 1, 1, 0, 1, 0, 1, 0, 0,\n",
       "       1, 1, 1, 0, 0, 1, 0, 1, 1, 1, 0, 0, 0, 0, 1, 0, 0, 1, 1, 0, 1, 1,\n",
       "       1, 1, 0, 0, 0, 1, 0, 0, 0, 1, 1, 1, 1], dtype=int64)"
      ]
     },
     "execution_count": 6,
     "metadata": {},
     "output_type": "execute_result"
    }
   ],
   "source": [
    "#cleaning the test data\n",
    "cleaned_test= clean_text(data_test.data)\n",
    "label_test= data_test.target\n",
    "label_test"
   ]
  },
  {
   "cell_type": "code",
   "execution_count": null,
   "id": "3ed5c5ee",
   "metadata": {},
   "outputs": [],
   "source": [
    "#Once the data is converted into root form(i.e data cleaned) it should be converted into numeric form \n",
    "#one of the technique used here is:\n",
    "#TfidVectorizer:Term Frequency Inverse Document Frequency\n",
    "#it'll try to identify what is the frequency of a given word in a given document and across the number of documents and it'll\n",
    "#create a matrix which will show the frequency of particular word or term"
   ]
  },
  {
   "cell_type": "code",
   "execution_count": 7,
   "id": "179d31ea",
   "metadata": {},
   "outputs": [
    {
     "data": {
      "text/plain": [
       "Counter({0: 584, 1: 593})"
      ]
     },
     "execution_count": 7,
     "metadata": {},
     "output_type": "execute_result"
    }
   ],
   "source": [
    "# TFidfvectorizer- term frequency inverse document frequency\n",
    "\n",
    "from collections import Counter\n",
    "Counter(label_train)"
   ]
  },
  {
   "cell_type": "code",
   "execution_count": 8,
   "id": "e43e8cdb",
   "metadata": {},
   "outputs": [],
   "source": [
    "tfidf_vectorizer= TfidfVectorizer(stop_words='english', max_features=None)\n",
    "term_docs_train= tfidf_vectorizer.fit_transform(cleaned_train)\n",
    "term_docs_test= tfidf_vectorizer.transform(cleaned_test)"
   ]
  },
  {
   "cell_type": "code",
   "execution_count": 9,
   "id": "587040a0",
   "metadata": {},
   "outputs": [
    {
     "name": "stdout",
     "output_type": "stream",
     "text": [
      "The accuracy of binary classification is : 96.4%\n"
     ]
    }
   ],
   "source": [
    "from sklearn.svm import SVC\n",
    "\n",
    "svm= SVC(kernel='linear', C=1.0, random_state=42)\n",
    "svm.fit(term_docs_train, label_train)\n",
    "accuracy= svm.score(term_docs_test, label_test)\n",
    "print(\"The accuracy of binary classification is : {0:.1f}%\".format(accuracy*100))"
   ]
  },
  {
   "cell_type": "code",
   "execution_count": null,
   "id": "4700d825",
   "metadata": {},
   "outputs": [],
   "source": [
    "#From the above answer we get to know that the model is 96.4% accurate\n"
   ]
  },
  {
   "cell_type": "code",
   "execution_count": null,
   "id": "2d06c10a",
   "metadata": {},
   "outputs": [],
   "source": [
    "#EXPERIMENT-2:Multi-class Classifier\n",
    "#The model is able to classify between the below mentioned categories\n"
   ]
  },
  {
   "cell_type": "code",
   "execution_count": 15,
   "id": "df8352c6",
   "metadata": {},
   "outputs": [],
   "source": [
    "#The same process is repeated as we did for binary-class classifier but the change is in the number of categories as mentioned\n",
    "categories=[\n",
    "    'alt.atheism',\n",
    "    'talk.religion.misc',\n",
    "    'comp.graphics',\n",
    "    'sci.space',\n",
    "    'rec.sport.hockey'\n",
    "]"
   ]
  },
  {
   "cell_type": "code",
   "execution_count": 16,
   "id": "e4d5c418",
   "metadata": {},
   "outputs": [],
   "source": [
    "#seperating train and test datasets\n",
    "data_train= fetch_20newsgroups(subset='train', categories= categories, random_state=42)\n",
    "data_test= fetch_20newsgroups(subset='test', categories=categories, random_state=42)\n"
   ]
  },
  {
   "cell_type": "code",
   "execution_count": 17,
   "id": "59c31a34",
   "metadata": {},
   "outputs": [],
   "source": [
    "#cleaning the data\n",
    "cleaned_train= clean_text(data_train.data)\n",
    "label_train= data_train.target\n",
    "\n",
    "cleaned_test= clean_text(data_test.data)\n",
    "label_test= data_test.target"
   ]
  },
  {
   "cell_type": "code",
   "execution_count": 18,
   "id": "f511a171",
   "metadata": {},
   "outputs": [],
   "source": [
    "tfidf_vectorizer= TfidfVectorizer(stop_words='english', max_features=None)\n",
    "term_docs_train= tfidf_vectorizer.fit_transform(cleaned_train)\n",
    "term_docs_test= tfidf_vectorizer.transform(cleaned_test)\n"
   ]
  },
  {
   "cell_type": "code",
   "execution_count": 19,
   "id": "42546f07",
   "metadata": {},
   "outputs": [
    {
     "name": "stdout",
     "output_type": "stream",
     "text": [
      "The accuracy of 5-class classification is : 88.6%\n",
      "              precision    recall  f1-score   support\n",
      "\n",
      "           0       0.79      0.77      0.78       319\n",
      "           1       0.92      0.96      0.94       389\n",
      "           2       0.98      0.96      0.97       399\n",
      "           3       0.93      0.94      0.93       394\n",
      "           4       0.74      0.73      0.73       251\n",
      "\n",
      "    accuracy                           0.89      1752\n",
      "   macro avg       0.87      0.87      0.87      1752\n",
      "weighted avg       0.89      0.89      0.89      1752\n",
      "\n"
     ]
    }
   ],
   "source": [
    "svm= SVC(kernel='linear', C=1.0, random_state=42)\n",
    "svm.fit(term_docs_train, label_train)\n",
    "accuracy= svm.score(term_docs_test, label_test)\n",
    "print(\"The accuracy of 5-class classification is : {0:.1f}%\".format(accuracy*100))\n",
    "\n",
    "from sklearn.metrics import classification_report\n",
    "prediction= svm.predict(term_docs_test)\n",
    "report=classification_report(label_test, prediction)\n",
    "print(report)"
   ]
  },
  {
   "cell_type": "code",
   "execution_count": null,
   "id": "fe16fe8c",
   "metadata": {},
   "outputs": [],
   "source": [
    "#we come to know the accuracy of multi-class classifier is 88.6%"
   ]
  },
  {
   "cell_type": "code",
   "execution_count": null,
   "id": "09d8a86c",
   "metadata": {},
   "outputs": [],
   "source": [
    "#If we want the model to classify for all the 20 categories:"
   ]
  },
  {
   "cell_type": "code",
   "execution_count": 20,
   "id": "8b94045f",
   "metadata": {},
   "outputs": [],
   "source": [
    "data_train= fetch_20newsgroups(subset='train', categories= None, random_state=42)\n",
    "data_test= fetch_20newsgroups(subset='test', categories=None, random_state=42)"
   ]
  },
  {
   "cell_type": "code",
   "execution_count": 21,
   "id": "2f7326db",
   "metadata": {},
   "outputs": [
    {
     "name": "stdout",
     "output_type": "stream",
     "text": [
      "The accuracy of 20-class classification is : 78.9%\n",
      "              precision    recall  f1-score   support\n",
      "\n",
      "           0       0.70      0.66      0.68       319\n",
      "           1       0.65      0.78      0.71       389\n",
      "           2       0.72      0.66      0.69       394\n",
      "           3       0.65      0.74      0.69       392\n",
      "           4       0.81      0.77      0.79       385\n",
      "           5       0.77      0.68      0.72       395\n",
      "           6       0.70      0.83      0.76       390\n",
      "           7       0.86      0.85      0.86       396\n",
      "           8       0.92      0.90      0.91       398\n",
      "           9       0.92      0.91      0.92       397\n",
      "          10       0.96      0.93      0.94       399\n",
      "          11       0.95      0.86      0.90       396\n",
      "          12       0.69      0.73      0.71       393\n",
      "          13       0.81      0.88      0.84       396\n",
      "          14       0.92      0.86      0.89       394\n",
      "          15       0.73      0.85      0.79       398\n",
      "          16       0.69      0.85      0.76       364\n",
      "          17       0.98      0.79      0.87       376\n",
      "          18       0.74      0.56      0.64       310\n",
      "          19       0.65      0.51      0.57       251\n",
      "\n",
      "    accuracy                           0.79      7532\n",
      "   macro avg       0.79      0.78      0.78      7532\n",
      "weighted avg       0.80      0.79      0.79      7532\n",
      "\n"
     ]
    }
   ],
   "source": [
    "cleaned_train= clean_text(data_train.data)\n",
    "label_train= data_train.target\n",
    "\n",
    "cleaned_test= clean_text(data_test.data)\n",
    "label_test= data_test.target\n",
    "\n",
    "tfidf_vectorizer= TfidfVectorizer(stop_words='english', max_features=None)\n",
    "term_docs_train= tfidf_vectorizer.fit_transform(cleaned_train)\n",
    "term_docs_test= tfidf_vectorizer.transform(cleaned_test)\n",
    "\n",
    "svm= SVC(kernel='linear', C=1.0, random_state=42)\n",
    "svm.fit(term_docs_train, label_train)\n",
    "accuracy= svm.score(term_docs_test, label_test)\n",
    "print(\"The accuracy of 20-class classification is : {0:.1f}%\".format(accuracy*100))\n",
    "\n",
    "from sklearn.metrics import classification_report\n",
    "prediction= svm.predict(term_docs_test)\n",
    "report=classification_report(label_test, prediction)\n",
    "print(report)"
   ]
  },
  {
   "cell_type": "code",
   "execution_count": null,
   "id": "21ff0133",
   "metadata": {},
   "outputs": [],
   "source": []
  }
 ],
 "metadata": {
  "kernelspec": {
   "display_name": "Python 3 (ipykernel)",
   "language": "python",
   "name": "python3"
  },
  "language_info": {
   "codemirror_mode": {
    "name": "ipython",
    "version": 3
   },
   "file_extension": ".py",
   "mimetype": "text/x-python",
   "name": "python",
   "nbconvert_exporter": "python",
   "pygments_lexer": "ipython3",
   "version": "3.10.2"
  }
 },
 "nbformat": 4,
 "nbformat_minor": 5
}
